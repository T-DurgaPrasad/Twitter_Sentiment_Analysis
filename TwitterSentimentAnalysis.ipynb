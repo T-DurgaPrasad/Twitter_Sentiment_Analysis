{
  "nbformat": 4,
  "nbformat_minor": 0,
  "metadata": {
    "kernelspec": {
      "display_name": "Python 3",
      "language": "python",
      "name": "python3"
    },
    "language_info": {
      "codemirror_mode": {
        "name": "ipython",
        "version": 3
      },
      "file_extension": ".py",
      "mimetype": "text/x-python",
      "name": "python",
      "nbconvert_exporter": "python",
      "pygments_lexer": "ipython3",
      "version": "3.7.7"
    },
    "colab": {
      "name": "TwitterSentimentAnalysis.ipynb",
      "provenance": [],
      "collapsed_sections": []
    }
  },
  "cells": [
    {
      "cell_type": "markdown",
      "metadata": {
        "id": "llaDayFzzEN0",
        "colab_type": "text"
      },
      "source": [
        "## Required Imports"
      ]
    },
    {
      "cell_type": "code",
      "metadata": {
        "id": "XxCD3yHCzEN1",
        "colab_type": "code",
        "colab": {}
      },
      "source": [
        "import sys, tweepy\n",
        "import numpy as np\n",
        "from textblob import TextBlob\n",
        "import matplotlib.pyplot as plt\n",
        "%matplotlib inline\n",
        "\n",
        "# Consumer Key / ApI Key = '1ZgTj3ODnN0xDe5WTxiExD7Rb'\n",
        "# Consumer Secret Key / API SecretKey = 'p307KMWBtA2gbZaggFulbkBB7kMYYr246yfBBovavgy5hfato0'\n",
        "# ACCESS Token = '1284894098436972545-NaZIOCYcyu6Tan6k2dATGeMPekGNbK'\n",
        "# ACCESS Token Secret = 'X0fDOMXT8fr3P61VKKljHCE6wdF3RA4Nx28FndgTtXpPq'"
      ],
      "execution_count": null,
      "outputs": []
    },
    {
      "cell_type": "markdown",
      "metadata": {
        "id": "JNtlzrBGzEN5",
        "colab_type": "text"
      },
      "source": [
        "## Twitter Authentication and Api"
      ]
    },
    {
      "cell_type": "code",
      "metadata": {
        "id": "A9Hi9g6DzEN5",
        "colab_type": "code",
        "colab": {}
      },
      "source": [
        "# ApiKey And ApiSecret Key\n",
        "consumerKey = '1ZgTj3ODnN0xDe5WTxiExD7Rb'\n",
        "consumerSecret = 'p307KMWBtA2gbZaggFulbkBB7kMYYr246yfBBovavgy5hfato0'\n",
        "\n",
        "accessToken = '1284894098436972545-NaZIOCYcyu6Tan6k2dATGeMPekGNbK'\n",
        "accessTokenSecret = 'X0fDOMXT8fr3P61VKKljHCE6wdF3RA4Nx28FndgTtXpPq'\n",
        "# authentication\n",
        "auth = tweepy.OAuthHandler(consumer_key = consumerKey, consumer_secret = consumerSecret)\n",
        "auth.set_access_token(accessToken, accessTokenSecret)\n",
        "api = tweepy.API(auth)"
      ],
      "execution_count": null,
      "outputs": []
    },
    {
      "cell_type": "markdown",
      "metadata": {
        "id": "15INltjJzEN8",
        "colab_type": "text"
      },
      "source": [
        "## Input Data"
      ]
    },
    {
      "cell_type": "code",
      "metadata": {
        "id": "kfp4V98nzEN8",
        "colab_type": "code",
        "colab": {
          "base_uri": "https://localhost:8080/",
          "height": 50
        },
        "outputId": "48cfc7d0-f11f-40b5-919e-58302820ffd2"
      },
      "source": [
        "search_text = input(\"Enter Keyword/hashtag to search about:\")\n",
        "totalTweets = int(input(\"Enter How Many Tweets You Want To Analyse:\"))"
      ],
      "execution_count": null,
      "outputs": [
        {
          "output_type": "stream",
          "text": [
            "Enter Keyword/hashtag to search about:Prabhas\n",
            "Enter How Many Tweets You Want To Analyse:100\n"
          ],
          "name": "stdout"
        }
      ]
    },
    {
      "cell_type": "markdown",
      "metadata": {
        "id": "qTAhGm2lzEN_",
        "colab_type": "text"
      },
      "source": [
        "## Extracting Tweets and Processing"
      ]
    },
    {
      "cell_type": "code",
      "metadata": {
        "id": "T4FzGCltzEOA",
        "colab_type": "code",
        "colab": {}
      },
      "source": [
        "def percentage(part, whole):\n",
        "    return 100 * float(part)/float(whole)\n",
        "\n",
        "tweets = tweepy.Cursor(api.search, q = search_text, language = 'English').items(totalTweets)\n",
        "\n",
        "positive = 0\n",
        "negative = 0\n",
        "neutral  = 0\n",
        "polarity = 0\n",
        "\n",
        "for tweet in tweets:\n",
        "    analysis = TextBlob(tweet.text)\n",
        "    polarity += analysis.sentiment.polarity\n",
        "    if   (analysis.sentiment.polarity == 0):\n",
        "        neutral += 1\n",
        "    elif (analysis.sentiment.polarity < 0.00):\n",
        "        negative += 1\n",
        "    elif (analysis.sentiment.polarity > 0.00):\n",
        "        positive += 1 \n",
        "\n",
        "positive = percentage(positive, totalTweets)\n",
        "negative = percentage(negative, totalTweets)\n",
        "neutral  = percentage(neutral,  totalTweets)\n",
        "\n",
        "positive = format(positive, '.2f')\n",
        "negative = format(negative, '.2f')\n",
        "neutral  = format(neutral,  '.2f')"
      ],
      "execution_count": null,
      "outputs": []
    },
    {
      "cell_type": "markdown",
      "metadata": {
        "id": "4e0PHaYKzEOC",
        "colab_type": "text"
      },
      "source": [
        "### Conclusion On Tweets"
      ]
    },
    {
      "cell_type": "code",
      "metadata": {
        "id": "Jjdus1FZzEOD",
        "colab_type": "code",
        "colab": {
          "base_uri": "https://localhost:8080/",
          "height": 50
        },
        "outputId": "b498a858-1f60-405c-e3b1-a010ef3a76e6"
      },
      "source": [
        "# Peoples Reaction\n",
        "print(\"How people are reacting on \" + search_text + \" by analyzing \" + str(totalTweets) + \" tweets.\")\n",
        "if polarity == 0:\n",
        "    print(\"Neutral\")\n",
        "elif polarity < 0:\n",
        "    print(\"Negative\")\n",
        "elif polarity > 0:\n",
        "    print(\"Positive\")"
      ],
      "execution_count": null,
      "outputs": [
        {
          "output_type": "stream",
          "text": [
            "How people are reacting on Prabhas by analyzing 100 tweets.\n",
            "Positive\n"
          ],
          "name": "stdout"
        }
      ]
    },
    {
      "cell_type": "markdown",
      "metadata": {
        "id": "vP6sErCozEOG",
        "colab_type": "text"
      },
      "source": [
        "## Plot Pie Plot On People Reaction "
      ]
    },
    {
      "cell_type": "code",
      "metadata": {
        "id": "k1fFW9ZwzEOG",
        "colab_type": "code",
        "colab": {
          "base_uri": "https://localhost:8080/",
          "height": 314
        },
        "outputId": "9987293c-9161-4959-e8ff-d5224fb412e9"
      },
      "source": [
        "# Plot the pie plot On The people reaction\n",
        "labels = ['Positive [' + str(positive) + '%]', 'Negative [' + str(negative) + '%]', 'Neutral [' + str(neutral) + '%]']\n",
        "sizes  = [positive, negative, neutral]\n",
        "print(sizes)\n",
        "colors = ['green', 'red', 'yellow']\n",
        "patches, texts = plt.pie(sizes, colors= colors, startangle= 90)\n",
        "plt.legend(patches, labels, loc = \"best\")\n",
        "plt.title('How people are reacting on ' + search_text + ' by analyzing ' + str(totalTweets) + ' Tweets.')\n",
        "plt.axis('equal')\n",
        "plt.tight_layout()\n",
        "plt.show()"
      ],
      "execution_count": null,
      "outputs": [
        {
          "output_type": "stream",
          "text": [
            "['37.00', '10.00', '53.00']\n"
          ],
          "name": "stdout"
        },
        {
          "output_type": "display_data",
          "data": {
            "image/png": "[encoded data removed]",
            "text/plain": [
              "<Figure size 432x288 with 1 Axes>"
            ]
          },
          "metadata": {
            "tags": []
          }
        }
      ]
    },
    {
      "cell_type": "markdown",
      "metadata": {
        "id": "wY1eiPTrzEOK",
        "colab_type": "text"
      },
      "source": [
        "## Plot Bar Chart On People Reaction"
      ]
    },
    {
      "cell_type": "code",
      "metadata": {
        "id": "bXUdGnrZzEOK",
        "colab_type": "code",
        "colab": {
          "base_uri": "https://localhost:8080/",
          "height": 314
        },
        "outputId": "23088753-e130-44f0-fe5d-399a63f1971a"
      },
      "source": [
        "# Plot the Bar plot On The people reaction\n",
        "x = (\"Positive\", \"negative\", \"neutral\")\n",
        "y  = [positive, negative, neutral]\n",
        "print(y)\n",
        "y_pos = np.arange(len(x))\n",
        "\n",
        "plt.bar(x, y)\n",
        "plt.xticks(y_pos, (\"Positive\", \"negative\", \"neutral\"))\n",
        "plt.ylabel(\"Reaction\")\n",
        "plt.title( 'How people are reacting on ' + search_text + ' by analyzing ' + str(totalTweets) + ' Tweets.')\n",
        "plt.tight_layout()\n",
        "plt.show()"
      ],
      "execution_count": null,
      "outputs": [
        {
          "output_type": "stream",
          "text": [
            "['37.00', '10.00', '53.00']\n"
          ],
          "name": "stdout"
        },
        {
          "output_type": "display_data",
          "data": {
            "image/png": "[encoded data removed]",
            "text/plain": [
              "<Figure size 432x288 with 1 Axes>"
            ]
          },
          "metadata": {
            "tags": [],
            "needs_background": "light"
          }
        }
      ]
    },
    {
      "cell_type": "code",
      "metadata": {
        "id": "ia6OjkuwzEON",
        "colab_type": "code",
        "colab": {}
      },
      "source": [
        ""
      ],
      "execution_count": null,
      "outputs": []
    }
  ]
}