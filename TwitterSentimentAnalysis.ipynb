{
 "cells": [
  {
   "cell_type": "markdown",
   "metadata": {},
   "source": [
    "## Required Imports"
   ]
  },
  {
   "cell_type": "code",
   "execution_count": 1,
   "metadata": {},
   "outputs": [],
   "source": [
    "import sys, tweepy\n",
    "import numpy as np\n",
    "from textblob import TextBlob\n",
    "import matplotlib.pyplot as plt\n",
    "%matplotlib inline\n",
    "\n",
    "# Consumer Key / ApI Key = '1ZgTj3ODnN0xDe5WTxiExD7Rb'\n",
    "# Consumer Secret Key / API SecretKey = 'p307KMWBtA2gbZaggFulbkBB7kMYYr246yfBBovavgy5hfato0'\n",
    "# ACCESS Token = '1284894098436972545-NaZIOCYcyu6Tan6k2dATGeMPekGNbK'\n",
    "# ACCESS Token Secret = 'X0fDOMXT8fr3P61VKKljHCE6wdF3RA4Nx28FndgTtXpPq'"
   ]
  },
  {
   "cell_type": "markdown",
   "metadata": {},
   "source": [
    "## Twitter Authentication and Api"
   ]
  },
  {
   "cell_type": "code",
   "execution_count": 2,
   "metadata": {},
   "outputs": [],
   "source": [
    "# ApiKey And ApiSecret Key\n",
    "consumerKey = '1ZgTj3ODnN0xDe5WTxiExD7Rb'\n",
    "consumerSecret = 'p307KMWBtA2gbZaggFulbkBB7kMYYr246yfBBovavgy5hfato0'\n",
    "\n",
    "accessToken = '1284894098436972545-NaZIOCYcyu6Tan6k2dATGeMPekGNbK'\n",
    "accessTokenSecret = 'X0fDOMXT8fr3P61VKKljHCE6wdF3RA4Nx28FndgTtXpPq'\n",
    "# authentication\n",
    "auth = tweepy.OAuthHandler(consumer_key = consumerKey, consumer_secret = consumerSecret)\n",
    "auth.set_access_token(accessToken, accessTokenSecret)\n",
    "api = tweepy.API(auth)"
   ]
  },
  {
   "cell_type": "markdown",
   "metadata": {},
   "source": [
    "## Input Data"
   ]
  },
  {
   "cell_type": "code",
   "execution_count": 3,
   "metadata": {},
   "outputs": [
    {
     "name": "stdout",
     "output_type": "stream",
     "text": [
      "Enter Keyword/hashtag to search about:radhe shyam\n",
      "Enter How Many Tweets You Want To Analyse:250\n"
     ]
    }
   ],
   "source": [
    "search_text = input(\"Enter Keyword/hashtag to search about:\")\n",
    "totalTweets = int(input(\"Enter How Many Tweets You Want To Analyse:\"))"
   ]
  },
  {
   "cell_type": "markdown",
   "metadata": {},
   "source": [
    "## Ectracting Tweets and Processing"
   ]
  },
  {
   "cell_type": "code",
   "execution_count": 4,
   "metadata": {},
   "outputs": [],
   "source": [
    "def percentage(part, whole):\n",
    "    return 100 * float(part)/float(whole)\n",
    "\n",
    "tweets = tweepy.Cursor(api.search, q = search_text, language = 'English').items(totalTweets)\n",
    "\n",
    "positive = 0\n",
    "negative = 0\n",
    "neutral  = 0\n",
    "polarity = 0\n",
    "\n",
    "for tweet in tweets:\n",
    "    analysis = TextBlob(tweet.text)\n",
    "    polarity += analysis.sentiment.polarity\n",
    "    if   (analysis.sentiment.polarity == 0):\n",
    "        neutral += 1\n",
    "    elif (analysis.sentiment.polarity < 0.00):\n",
    "        negative += 1\n",
    "    elif (analysis.sentiment.polarity > 0.00):\n",
    "        positive += 1 \n",
    "\n",
    "positive = percentage(positive, totalTweets)\n",
    "negative = percentage(negative, totalTweets)\n",
    "neutral  = percentage(neutral,  totalTweets)\n",
    "\n",
    "positive = format(positive, '.2f')\n",
    "negative = format(negative, '.2f')\n",
    "neutral  = format(neutral,  '.2f')"
   ]
  },
  {
   "cell_type": "markdown",
   "metadata": {},
   "source": [
    "### Conclusion On Tweets"
   ]
  },
  {
   "cell_type": "code",
   "execution_count": 8,
   "metadata": {},
   "outputs": [
    {
     "name": "stdout",
     "output_type": "stream",
     "text": [
      "How people are reacting on radhe shyam by analyzing 250 tweets.\n",
      "Positive\n"
     ]
    }
   ],
   "source": [
    "# Peoples Reaction\n",
    "print(\"How people are reacting on \" + search_text + \" by analyzing \" + str(totalTweets) + \" tweets.\")\n",
    "if polarity == 0:\n",
    "    print(\"Neutral\")\n",
    "elif polarity < 0:\n",
    "    print(\"Negative\")\n",
    "elif polarity > 0:\n",
    "    print(\"Positive\")"
   ]
  },
  {
   "cell_type": "markdown",
   "metadata": {},
   "source": [
    "## Plot Pie Plot On People Reaction "
   ]
  },
  {
   "cell_type": "code",
   "execution_count": 6,
   "metadata": {},
   "outputs": [
    {
     "name": "stdout",
     "output_type": "stream",
     "text": [
      "['32.40', '4.40', '63.20']\n"
     ]
    },
    {
     "data": {
      "image/png": "[encoded data removed]",
      "text/plain": [
       "<Figure size 432x288 with 1 Axes>"
      ]
     },
     "metadata": {},
     "output_type": "display_data"
    }
   ],
   "source": [
    "# Plot the pie plot On The people reaction\n",
    "labels = ['Positive [' + str(positive) + '%]', 'Negative [' + str(negative) + '%]', 'Neutral [' + str(neutral) + '%]']\n",
    "sizes  = [positive, negative, neutral]\n",
    "print(sizes)\n",
    "colors = ['green', 'red', 'yellow']\n",
    "patches, texts = plt.pie(sizes, colors= colors, startangle= 90)\n",
    "plt.legend(patches, labels, loc = \"best\")\n",
    "plt.title('How people are reacting on ' + search_text + ' by analyzing ' + str(totalTweets) + ' Tweets.')\n",
    "plt.axis('equal')\n",
    "plt.tight_layout()\n",
    "plt.show()"
   ]
  },
  {
   "cell_type": "markdown",
   "metadata": {},
   "source": [
    "## Plot Bar Chart On People Reaction"
   ]
  },
  {
   "cell_type": "code",
   "execution_count": 7,
   "metadata": {},
   "outputs": [
    {
     "name": "stdout",
     "output_type": "stream",
     "text": [
      "['32.40', '4.40', '63.20']\n"
     ]
    },
    {
     "data": {
      "image/png": "[encoded data removed]",
      "text/plain": [
       "<Figure size 432x288 with 1 Axes>"
      ]
     },
     "metadata": {
      "needs_background": "light"
     },
     "output_type": "display_data"
    }
   ],
   "source": [
    "# Plot the Bar plot On The people reaction\n",
    "x = (\"Positive\", \"negative\", \"neutral\")\n",
    "y  = [positive, negative, neutral]\n",
    "print(y)\n",
    "y_pos = np.arange(len(x))\n",
    "\n",
    "plt.bar(x, y)\n",
    "plt.xticks(y_pos, (\"Positive\", \"negative\", \"neutral\"))\n",
    "plt.ylabel(\"Reaction\")\n",
    "plt.title( 'How people are reacting on ' + search_text + ' by analyzing ' + str(totalTweets) + ' Tweets.')\n",
    "plt.tight_layout()\n",
    "plt.show()"
   ]
  },
  {
   "cell_type": "code",
   "execution_count": null,
   "metadata": {},
   "outputs": [],
   "source": []
  }
 ],
 "metadata": {
  "kernelspec": {
   "display_name": "Python 3",
   "language": "python",
   "name": "python3"
  },
  "language_info": {
   "codemirror_mode": {
    "name": "ipython",
    "version": 3
   },
   "file_extension": ".py",
   "mimetype": "text/x-python",
   "name": "python",
   "nbconvert_exporter": "python",
   "pygments_lexer": "ipython3",
   "version": "3.7.7"
  }
 },
 "nbformat": 4,
 "nbformat_minor": 4
}
